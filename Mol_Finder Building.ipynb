{
 "cells": [
  {
   "cell_type": "markdown",
   "metadata": {},
   "source": [
    "A method is needed to read in _.mol2_ files and hold them in a data structure."
   ]
  },
  {
   "cell_type": "code",
   "execution_count": null,
   "metadata": {},
   "outputs": [],
   "source": [
    "import pandas as pd\n",
    "import os\n",
    "import re\n",
    "import argparse\n",
    "import networkx as nx\n",
    "import sys\n",
    "import pickle"
   ]
  },
  {
   "cell_type": "code",
   "execution_count": null,
   "metadata": {},
   "outputs": [],
   "source": [
    "parser = argparse.ArgumentParser('Reads .mol2 files and returns Orca 4.0 input files.')\n",
    "parser.add_argument('-i', '--input_mol2', help='input file name')\n",
    "parser.add_argument('-o', '--output', default='output', help='The desired name of output files.')\n",
    "parser.add_argument('-ip', '--ipath', default=os.getcwd(), help='Directory of the .mol2 file.')\n",
    "parser.add_argument('-op', '--opath', default=os.getcwd(), help='Directory for the output files.')\n",
    "parser.add_argument('-m', '--molecules', default=2, help='The number of different molecules in your system.')\n",
    "\n",
    "args = parser.parse_args()"
   ]
  },
  {
   "cell_type": "code",
   "execution_count": null,
   "metadata": {},
   "outputs": [],
   "source": [
    "in_path = args.ipath\n",
    "out_path = args.opath\n",
    "# name = args.input_mol2\n",
    "name = 'Supercell_XYZ_NVT_20Ps.mol2'\n",
    "in_file = os.path.join(in_path, name)\n",
    "\n",
    "file_format = re.search('\\.mol2', name)\n",
    "if file_format is None:\n",
    "    print('input not a mol2 file!!!')\n",
    "    sys.exit(1)\n",
    "\n",
    "out_name = args.output\n",
    "out_ext = {'orca': '.inp'}\n",
    "os.makedirs(os.path.dirname(args.opath), exist_ok=True)\n",
    "\n",
    "mol_types = {}\n",
    "for i in range(0, args.molecules, 1):\n",
    "    key = 'mol'+str(i)\n",
    "    print('How many atoms are there in molecule '+str(i))\n",
    "    while True:\n",
    "        mol_atoms = input(':')\n",
    "        try:\n",
    "            mol_types[key] = int(mol_atoms)\n",
    "            break\n",
    "        except ValueError:\n",
    "            print('Please enter an integer.')\n",
    "            continue"
   ]
  },
  {
   "cell_type": "code",
   "execution_count": null,
   "metadata": {},
   "outputs": [],
   "source": [
    "with open(in_file, mode='r', encoding='utf-8') as f:\n",
    "    met, at, bd = 0, 0, 0\n",
    "    for line in f:\n",
    "        met_test = re.search('MOLECULE', line)\n",
    "        at_test = re.search('ATOM', line)\n",
    "        bd_test = re.search('BOND', line)\n",
    "        if met_test[0] == 'MOLECULE':\n",
    "            meta_start = met\n",
    "        elif at_test == 'ATOM':\n",
    "            at_start = at\n",
    "        elif bd_test == 'BOND':\n",
    "            bd_start = bd\n",
    "        else:\n",
    "            continue\n",
    "        met += 1\n",
    "        at += 1\n",
    "        bd += 1\n",
    "        \n",
    "    meta = pd.read_csv(file,\n",
    "                      header=None,\n",
    "                      delim_whitespace=True,\n",
    "                      skiprows=meta_start+1,\n",
    "                      nrows=1\n",
    "                      )\n",
    "    \n",
    "    atoms = pd.read_csv(file, \n",
    "                        header=None, \n",
    "                        delim_whitespace=True, \n",
    "                        skiprows=at_start, \n",
    "                        nrows=meta.loc[0, 0]\n",
    "                       )\n",
    "\n",
    "    bonds = pd.read_csv(file, \n",
    "                        header=None,\n",
    "                        delim_whitespace=True,\n",
    "                        skiprows=bd_start,\n",
    "                        nrows=meta.loc[0, 1]\n",
    "                       )\n",
    "\n",
    "with open('atoms', mode='wb') as f:\n",
    "    pickle.dump(atoms, f)\n",
    "with open('meta', mode='wb') as f:\n",
    "    pickle.dump(meta, f)\n",
    "with open('bonds', mode='wb') as f:\n",
    "    pickle.dump(bonds, f)"
   ]
  },
  {
   "cell_type": "code",
   "execution_count": 3,
   "metadata": {},
   "outputs": [],
   "source": [
    "import re\n",
    "test_string = '@<TRIPOS>MOLECULE'"
   ]
  },
  {
   "cell_type": "code",
   "execution_count": 4,
   "metadata": {},
   "outputs": [],
   "source": [
    "test = re.search('MOLECULE', test_string)"
   ]
  },
  {
   "cell_type": "code",
   "execution_count": 12,
   "metadata": {},
   "outputs": [
    {
     "data": {
      "text/plain": [
       "True"
      ]
     },
     "execution_count": 12,
     "metadata": {},
     "output_type": "execute_result"
    }
   ],
   "source": [
    "test[0] == 'MOLECULE'"
   ]
  },
  {
   "cell_type": "code",
   "execution_count": 9,
   "metadata": {},
   "outputs": [
    {
     "data": {
      "text/plain": [
       "'MOLECULE'"
      ]
     },
     "execution_count": 9,
     "metadata": {},
     "output_type": "execute_result"
    }
   ],
   "source": [
    "test[0]"
   ]
  },
  {
   "cell_type": "code",
   "execution_count": 13,
   "metadata": {},
   "outputs": [
    {
     "data": {
      "text/plain": [
       "True"
      ]
     },
     "execution_count": 13,
     "metadata": {},
     "output_type": "execute_result"
    }
   ],
   "source": [
    "test is not None"
   ]
  },
  {
   "cell_type": "code",
   "execution_count": null,
   "metadata": {},
   "outputs": [],
   "source": []
  }
 ],
 "metadata": {
  "kernelspec": {
   "display_name": "Python 3",
   "language": "python",
   "name": "python3"
  },
  "language_info": {
   "codemirror_mode": {
    "name": "ipython",
    "version": 3
   },
   "file_extension": ".py",
   "mimetype": "text/x-python",
   "name": "python",
   "nbconvert_exporter": "python",
   "pygments_lexer": "ipython3",
   "version": "3.6.3"
  }
 },
 "nbformat": 4,
 "nbformat_minor": 2
}
