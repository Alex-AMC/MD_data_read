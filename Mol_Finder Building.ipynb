{
 "cells": [
  {
   "cell_type": "markdown",
   "metadata": {},
   "source": [
    "A method is needed to read in _.mol2_ files and hold them in a data structure."
   ]
  },
  {
   "cell_type": "code",
   "execution_count": 1,
   "metadata": {},
   "outputs": [],
   "source": [
    "import pandas as pd\n",
    "import os\n",
    "import re\n",
    "import argparse\n",
    "import networkx as nx"
   ]
  },
  {
   "cell_type": "code",
   "execution_count": null,
   "metadata": {},
   "outputs": [],
   "source": [
    "parser = argparse.ArgumentParser('Reads .mol2 files and returns Orca 4.0 input files.')\n",
    "parser.add_argument('-i', '--input_mol2', help='input file name')\n",
    "parser.add_argument('-o', '--output', default='output', help='The desired name of output files.')\n",
    "parser.add_argument('-ip', '--ipath', default=os.getcwd(), help='Directory of the .mol2 file.')\n",
    "parser.add_argument('-op', '--opath', default=os.getcwd(), help='Directory for the output files.')\n",
    "parser.add_argument('-m', '--molecules', default=2, help='The number of different molecules in your system.')\n",
    "\n",
    "args = parser.parse_args()"
   ]
  },
  {
   "cell_type": "code",
   "execution_count": null,
   "metadata": {},
   "outputs": [],
   "source": [
    "in_path = args.ipath\n",
    "out_path = args.opath\n",
    "# name = args.input_mol2\n",
    "name = 'Supercell_XYZ_NVT_20Ps.mol2'\n",
    "file = os.path.join(in_path, name)\n",
    "\n",
    "file_format = re.search('\\.mol2', name)\n",
    "if file_format is None:\n",
    "    print('input not a mol2 file!!!')\n",
    "    sys.exit(1)\n",
    "\n",
    "out_name = args.output\n",
    "out_ext = {'orca': '.inp'}\n",
    "os.makedirs(os.path.dirname(args.opath), exist_ok=True)\n",
    "\n",
    "mol_types = {}\n",
    "for i in range(0, args.molecules, 1):\n",
    "    key = 'mol'+str(i)\n",
    "    print('How many atoms are there in molecule '+str(i))\n",
    "    mol_types[key] = input(':')"
   ]
  },
  {
   "cell_type": "code",
   "execution_count": null,
   "metadata": {},
   "outputs": [],
   "source": [
    "skip_atom = \n",
    "to_end_atom =\n",
    "skip_bond = \n",
    "to_end_bond = "
   ]
  },
  {
   "cell_type": "code",
   "execution_count": null,
   "metadata": {},
   "outputs": [],
   "source": [
    "atoms = pd.read_csv(file, \n",
    "                    header=None, \n",
    "                    delim_whitespace=True, \n",
    "                    skiprows=skip_atom, \n",
    "                    nrows=to_end_atom\n",
    "                   )\n",
    "\n",
    "bonds = pd.read_csv(file, \n",
    "                    header=None,\n",
    "                    delim_whitespace=True,\n",
    "                    skiprows=skip_bond,\n",
    "                    nrows=to_end_bond\n",
    "                   )"
   ]
  }
 ],
 "metadata": {
  "kernelspec": {
   "display_name": "Python 3",
   "language": "python",
   "name": "python3"
  },
  "language_info": {
   "codemirror_mode": {
    "name": "ipython",
    "version": 3
   },
   "file_extension": ".py",
   "mimetype": "text/x-python",
   "name": "python",
   "nbconvert_exporter": "python",
   "pygments_lexer": "ipython3",
   "version": "3.6.3"
  }
 },
 "nbformat": 4,
 "nbformat_minor": 2
}
